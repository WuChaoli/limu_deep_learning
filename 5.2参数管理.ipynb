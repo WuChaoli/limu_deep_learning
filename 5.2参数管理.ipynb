{
 "cells": [
  {
   "cell_type": "code",
   "execution_count": 1,
   "id": "1ffba4e0-4789-4f97-a3dc-8ee12b82d6fa",
   "metadata": {},
   "outputs": [],
   "source": [
    "import torch\n",
    "from torch import nn"
   ]
  },
  {
   "cell_type": "code",
   "execution_count": 2,
   "id": "49eff70b-48ab-4f8e-aeb2-4c422a25fe89",
   "metadata": {},
   "outputs": [
    {
     "data": {
      "text/plain": [
       "tensor([[-0.0091],\n",
       "        [ 0.0873]], grad_fn=<AddmmBackward0>)"
      ]
     },
     "execution_count": 2,
     "metadata": {},
     "output_type": "execute_result"
    }
   ],
   "source": [
    "net = nn.Sequential(nn.Linear(4, 8), nn.ReLU(), nn.Linear(8,1))\n",
    "X = torch.rand((2,4))\n",
    "net(X)"
   ]
  },
  {
   "cell_type": "code",
   "execution_count": 3,
   "id": "e5eab02d-60d9-478c-9942-2509c6478371",
   "metadata": {},
   "outputs": [
    {
     "data": {
      "text/plain": [
       "OrderedDict([('weight',\n",
       "              tensor([[ 2.0920e-01, -1.7323e-01, -2.9893e-02,  2.9644e-01,  2.4437e-02,\n",
       "                        4.4811e-02, -1.9574e-04,  3.1519e-01]])),\n",
       "             ('bias', tensor([-0.0780]))])"
      ]
     },
     "execution_count": 3,
     "metadata": {},
     "output_type": "execute_result"
    }
   ],
   "source": [
    "# 访问参数\n",
    "net[2].state_dict()"
   ]
  },
  {
   "cell_type": "code",
   "execution_count": 8,
   "id": "19ab4dbc-89c1-4515-b2d8-94215cb3f33f",
   "metadata": {},
   "outputs": [
    {
     "data": {
      "text/plain": [
       "torch.nn.parameter.Parameter"
      ]
     },
     "execution_count": 8,
     "metadata": {},
     "output_type": "execute_result"
    }
   ],
   "source": [
    "type(net[2].bias)"
   ]
  },
  {
   "cell_type": "code",
   "execution_count": 9,
   "id": "a403b4c3-833a-43bc-be0a-6aabcd3c12a1",
   "metadata": {},
   "outputs": [
    {
     "data": {
      "text/plain": [
       "Parameter containing:\n",
       "tensor([-0.0780], requires_grad=True)"
      ]
     },
     "execution_count": 9,
     "metadata": {},
     "output_type": "execute_result"
    }
   ],
   "source": [
    "net[2].bias"
   ]
  },
  {
   "cell_type": "code",
   "execution_count": 10,
   "id": "489caa81-0818-47ac-90bc-f16a75d5cb47",
   "metadata": {},
   "outputs": [
    {
     "data": {
      "text/plain": [
       "tensor([-0.0780])"
      ]
     },
     "execution_count": 10,
     "metadata": {},
     "output_type": "execute_result"
    }
   ],
   "source": [
    "net[2].bias.data"
   ]
  },
  {
   "cell_type": "code",
   "execution_count": 12,
   "id": "0e4ebdfa-5c11-4905-811d-7f68076d55db",
   "metadata": {},
   "outputs": [
    {
     "data": {
      "text/plain": [
       "Parameter containing:\n",
       "tensor([[ 2.0920e-01, -1.7323e-01, -2.9893e-02,  2.9644e-01,  2.4437e-02,\n",
       "          4.4811e-02, -1.9574e-04,  3.1519e-01]], requires_grad=True)"
      ]
     },
     "execution_count": 12,
     "metadata": {},
     "output_type": "execute_result"
    }
   ],
   "source": [
    "net[2].weight"
   ]
  },
  {
   "cell_type": "code",
   "execution_count": 13,
   "id": "f2aba42d-3e50-4190-89bb-ce62264ad537",
   "metadata": {},
   "outputs": [],
   "source": [
    "net[2].weight.grad"
   ]
  },
  {
   "cell_type": "code",
   "execution_count": 15,
   "id": "0783c725-f1f1-441c-9622-9c2216f637ca",
   "metadata": {},
   "outputs": [
    {
     "name": "stdout",
     "output_type": "stream",
     "text": [
      "('0.weight', torch.Size([8, 4])) ('0.bias', torch.Size([8])) ('2.weight', torch.Size([1, 8])) ('2.bias', torch.Size([1]))\n"
     ]
    }
   ],
   "source": [
    "print(*[(name, param.shape) for name, param in net.named_parameters()])"
   ]
  },
  {
   "cell_type": "code",
   "execution_count": 18,
   "id": "9d2d4775-03d7-4c44-9be8-190134b0dbbc",
   "metadata": {},
   "outputs": [
    {
     "data": {
      "text/plain": [
       "tensor([[-0.0101],\n",
       "        [ 0.2980]], grad_fn=<AddmmBackward0>)"
      ]
     },
     "execution_count": 18,
     "metadata": {},
     "output_type": "execute_result"
    }
   ],
   "source": [
    "net2 = nn.Sequential()\n",
    "net2.add_module(\"ly1_linear\", nn.Linear(4,1))\n",
    "net2(X)"
   ]
  },
  {
   "cell_type": "code",
   "execution_count": 22,
   "id": "90b4996c-105a-458a-99c1-c0f50cd7792b",
   "metadata": {},
   "outputs": [
    {
     "data": {
      "text/plain": [
       "OrderedDict([('0.weight',\n",
       "              tensor([[-0.0099, -0.0106, -0.0049, -0.0028],\n",
       "                      [ 0.0080, -0.0045, -0.0067,  0.0197],\n",
       "                      [-0.0043,  0.0070,  0.0091,  0.0004],\n",
       "                      [-0.0004,  0.0024, -0.0248,  0.0209],\n",
       "                      [ 0.0053,  0.0014, -0.0076,  0.0038],\n",
       "                      [ 0.0088,  0.0110, -0.0008, -0.0025],\n",
       "                      [ 0.0164,  0.0168, -0.0024, -0.0062],\n",
       "                      [ 0.0105, -0.0128,  0.0066,  0.0016]])),\n",
       "             ('0.bias', tensor([0., 0., 0., 0., 0., 0., 0., 0.])),\n",
       "             ('2.weight',\n",
       "              tensor([[ 0.0073,  0.0037, -0.0126,  0.0027, -0.0184,  0.0019, -0.0109,  0.0081]])),\n",
       "             ('2.bias', tensor([0.]))])"
      ]
     },
     "execution_count": 22,
     "metadata": {},
     "output_type": "execute_result"
    }
   ],
   "source": [
    "# 参数初始化\n",
    "def init_weights(m):\n",
    "    if isinstance(m, nn.Linear):\n",
    "        nn.init.normal_(m.weight, mean=0, std=0.01)\n",
    "        nn.init.zeros_(m.bias)\n",
    "\n",
    "net.apply(init_weights)\n",
    "net.state_dict()"
   ]
  },
  {
   "cell_type": "code",
   "execution_count": 25,
   "id": "34361468-3573-4008-99b2-53bc37364955",
   "metadata": {},
   "outputs": [
    {
     "data": {
      "text/plain": [
       "OrderedDict([('0.weight',\n",
       "              tensor([[ 0.6092,  0.1514, -0.7018, -0.6161],\n",
       "                      [ 0.5566, -0.3642,  0.5052, -0.3152],\n",
       "                      [ 0.4589, -0.7026,  0.0997,  0.4313],\n",
       "                      [-0.5972,  0.6448, -0.3029, -0.5125],\n",
       "                      [-0.4876,  0.4538,  0.0578,  0.6013],\n",
       "                      [ 0.1318, -0.3053, -0.4168, -0.1754],\n",
       "                      [-0.1294, -0.1152,  0.0927, -0.1174],\n",
       "                      [-0.1109, -0.2608, -0.4622,  0.5455]])),\n",
       "             ('0.bias', tensor([0., 0., 0., 0., 0., 0., 0., 0.])),\n",
       "             ('2.weight',\n",
       "              tensor([[ 0.2856, -0.7713,  0.0101, -0.1117,  0.1985, -0.7894, -0.4823, -0.3454]])),\n",
       "             ('2.bias', tensor([0.]))])"
      ]
     },
     "execution_count": 25,
     "metadata": {},
     "output_type": "execute_result"
    }
   ],
   "source": [
    "def init_xavier(m):\n",
    "    if type(m) == nn.Linear:\n",
    "        nn.init.xavier_uniform_(m.weight)\n",
    "        nn.init.zeros_(m.bias)\n",
    "\n",
    "net.apply(init_xavier)\n",
    "net.state_dict()"
   ]
  },
  {
   "cell_type": "code",
   "execution_count": null,
   "id": "126e2c54-8e45-421d-bd96-a658a8cf1012",
   "metadata": {},
   "outputs": [],
   "source": []
  }
 ],
 "metadata": {
  "kernelspec": {
   "display_name": "Python 3 (ipykernel)",
   "language": "python",
   "name": "python3"
  },
  "language_info": {
   "codemirror_mode": {
    "name": "ipython",
    "version": 3
   },
   "file_extension": ".py",
   "mimetype": "text/x-python",
   "name": "python",
   "nbconvert_exporter": "python",
   "pygments_lexer": "ipython3",
   "version": "3.11.13"
  }
 },
 "nbformat": 4,
 "nbformat_minor": 5
}
