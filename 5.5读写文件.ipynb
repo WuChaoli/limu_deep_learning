{
 "cells": [
  {
   "cell_type": "code",
   "execution_count": 2,
   "id": "7adf1152-eb74-4ee2-963f-e4aff9c93122",
   "metadata": {},
   "outputs": [],
   "source": [
    "import torch\n",
    "from torch import nn\n",
    "from torch.nn import functional as F"
   ]
  },
  {
   "cell_type": "code",
   "execution_count": 3,
   "id": "eaad25b7-3e21-4550-a0f0-43abb33a175b",
   "metadata": {},
   "outputs": [
    {
     "data": {
      "text/plain": [
       "tensor([0, 1, 2, 3])"
      ]
     },
     "execution_count": 3,
     "metadata": {},
     "output_type": "execute_result"
    }
   ],
   "source": [
    "x = torch.arange(4)\n",
    "x"
   ]
  },
  {
   "cell_type": "code",
   "execution_count": 4,
   "id": "5bb11942-f7ad-456b-a621-4b50708182a1",
   "metadata": {},
   "outputs": [],
   "source": [
    "torch.save(x, 'x-file')"
   ]
  },
  {
   "cell_type": "code",
   "execution_count": 6,
   "id": "f82fb63c-2e20-41a5-8bc2-db4e986d56d9",
   "metadata": {},
   "outputs": [
    {
     "name": "stderr",
     "output_type": "stream",
     "text": [
      "C:\\Users\\43451\\AppData\\Local\\Temp\\ipykernel_19380\\1788962421.py:1: FutureWarning: You are using `torch.load` with `weights_only=False` (the current default value), which uses the default pickle module implicitly. It is possible to construct malicious pickle data which will execute arbitrary code during unpickling (See https://github.com/pytorch/pytorch/blob/main/SECURITY.md#untrusted-models for more details). In a future release, the default value for `weights_only` will be flipped to `True`. This limits the functions that could be executed during unpickling. Arbitrary objects will no longer be allowed to be loaded via this mode unless they are explicitly allowlisted by the user via `torch.serialization.add_safe_globals`. We recommend you start setting `weights_only=True` for any use case where you don't have full control of the loaded file. Please open an issue on GitHub for any issues related to this experimental feature.\n",
      "  x2 = torch.load('x-file')\n"
     ]
    }
   ],
   "source": [
    "x2 = torch.load('x-file')"
   ]
  },
  {
   "cell_type": "code",
   "execution_count": 8,
   "id": "4f5a8df6-8799-489f-9f53-18effba71cac",
   "metadata": {},
   "outputs": [
    {
     "data": {
      "text/plain": [
       "tensor([0, 1, 2, 3])"
      ]
     },
     "execution_count": 8,
     "metadata": {},
     "output_type": "execute_result"
    }
   ],
   "source": [
    "x2"
   ]
  },
  {
   "cell_type": "code",
   "execution_count": 10,
   "id": "08769934-546d-440b-b952-7fd6ae11d227",
   "metadata": {},
   "outputs": [
    {
     "data": {
      "text/plain": [
       "tensor([0., 0., 0., 0.])"
      ]
     },
     "execution_count": 10,
     "metadata": {},
     "output_type": "execute_result"
    }
   ],
   "source": [
    "y = torch.zeros(4)\n",
    "y"
   ]
  },
  {
   "cell_type": "code",
   "execution_count": 11,
   "id": "02a0532e-bacd-4b4e-8bab-561e414f77f4",
   "metadata": {},
   "outputs": [],
   "source": [
    "torch.save([x,y], 'xy-files')"
   ]
  },
  {
   "cell_type": "code",
   "execution_count": 12,
   "id": "ad4cc2f3-42f2-49fc-8b47-fa69ce745075",
   "metadata": {},
   "outputs": [
    {
     "name": "stderr",
     "output_type": "stream",
     "text": [
      "C:\\Users\\43451\\AppData\\Local\\Temp\\ipykernel_19380\\4096919393.py:1: FutureWarning: You are using `torch.load` with `weights_only=False` (the current default value), which uses the default pickle module implicitly. It is possible to construct malicious pickle data which will execute arbitrary code during unpickling (See https://github.com/pytorch/pytorch/blob/main/SECURITY.md#untrusted-models for more details). In a future release, the default value for `weights_only` will be flipped to `True`. This limits the functions that could be executed during unpickling. Arbitrary objects will no longer be allowed to be loaded via this mode unless they are explicitly allowlisted by the user via `torch.serialization.add_safe_globals`. We recommend you start setting `weights_only=True` for any use case where you don't have full control of the loaded file. Please open an issue on GitHub for any issues related to this experimental feature.\n",
      "  x2, y2 = torch.load('xy-files')\n"
     ]
    }
   ],
   "source": [
    "x2, y2 = torch.load('xy-files')"
   ]
  },
  {
   "cell_type": "code",
   "execution_count": 13,
   "id": "59dd26fd-2eed-4f66-897c-d4b5e7f26526",
   "metadata": {},
   "outputs": [
    {
     "data": {
      "text/plain": [
       "(tensor([0, 1, 2, 3]), tensor([0., 0., 0., 0.]))"
      ]
     },
     "execution_count": 13,
     "metadata": {},
     "output_type": "execute_result"
    }
   ],
   "source": [
    "x2, y2"
   ]
  },
  {
   "cell_type": "code",
   "execution_count": 26,
   "id": "e81e5306-7c19-456b-888c-f0f2cd4ea32d",
   "metadata": {},
   "outputs": [
    {
     "data": {
      "text/plain": [
       "OrderedDict([('0.weight',\n",
       "              tensor([[-0.6946, -0.3865, -0.1678,  0.9205],\n",
       "                      [ 0.9245,  0.2989,  0.1462,  0.7530]])),\n",
       "             ('0.bias', tensor([0., 0.])),\n",
       "             ('2.weight', tensor([[-0.0442, -0.5499]])),\n",
       "             ('2.bias', tensor([0.]))])"
      ]
     },
     "execution_count": 26,
     "metadata": {},
     "output_type": "execute_result"
    }
   ],
   "source": [
    "net = nn.Sequential(nn.Linear(4, 2), nn.ReLU(), nn.Linear(2, 1))\n",
    "def init_xavier(m):\n",
    "    if type(m) == nn.Linear:\n",
    "        nn.init.xavier_uniform_(m.weight)\n",
    "        nn.init.zeros_(m.bias)\n",
    "net.apply(init_xavier)\n",
    "net.state_dict()"
   ]
  },
  {
   "cell_type": "code",
   "execution_count": 27,
   "id": "fdf556cb-a2a5-4613-ac3b-453ff0988a97",
   "metadata": {},
   "outputs": [],
   "source": [
    "torch.save(net.state_dict(), 'mlp_params')"
   ]
  },
  {
   "cell_type": "code",
   "execution_count": 28,
   "id": "48ef6d8d-f431-4fab-8991-9ef0e4768b21",
   "metadata": {},
   "outputs": [
    {
     "data": {
      "text/plain": [
       "OrderedDict([('0.weight',\n",
       "              tensor([[ 0.2969,  0.0366, -0.3991,  0.0239],\n",
       "                      [ 0.2660, -0.0176,  0.0836, -0.1034]])),\n",
       "             ('0.bias', tensor([0.0048, 0.3344])),\n",
       "             ('2.weight', tensor([[ 0.0630, -0.2628]])),\n",
       "             ('2.bias', tensor([0.6415]))])"
      ]
     },
     "execution_count": 28,
     "metadata": {},
     "output_type": "execute_result"
    }
   ],
   "source": [
    "net2 = nn.Sequential(nn.Linear(4, 2), nn.ReLU(), nn.Linear(2, 1))\n",
    "net2.state_dict()"
   ]
  },
  {
   "cell_type": "code",
   "execution_count": 29,
   "id": "f1de5e37-30d8-4040-b0fb-61be34e1762f",
   "metadata": {},
   "outputs": [
    {
     "name": "stderr",
     "output_type": "stream",
     "text": [
      "C:\\Users\\43451\\AppData\\Local\\Temp\\ipykernel_19380\\1852917478.py:1: FutureWarning: You are using `torch.load` with `weights_only=False` (the current default value), which uses the default pickle module implicitly. It is possible to construct malicious pickle data which will execute arbitrary code during unpickling (See https://github.com/pytorch/pytorch/blob/main/SECURITY.md#untrusted-models for more details). In a future release, the default value for `weights_only` will be flipped to `True`. This limits the functions that could be executed during unpickling. Arbitrary objects will no longer be allowed to be loaded via this mode unless they are explicitly allowlisted by the user via `torch.serialization.add_safe_globals`. We recommend you start setting `weights_only=True` for any use case where you don't have full control of the loaded file. Please open an issue on GitHub for any issues related to this experimental feature.\n",
      "  net2.load_state_dict(torch.load('mlp_params'))\n"
     ]
    },
    {
     "data": {
      "text/plain": [
       "OrderedDict([('0.weight',\n",
       "              tensor([[-0.6946, -0.3865, -0.1678,  0.9205],\n",
       "                      [ 0.9245,  0.2989,  0.1462,  0.7530]])),\n",
       "             ('0.bias', tensor([0., 0.])),\n",
       "             ('2.weight', tensor([[-0.0442, -0.5499]])),\n",
       "             ('2.bias', tensor([0.]))])"
      ]
     },
     "execution_count": 29,
     "metadata": {},
     "output_type": "execute_result"
    }
   ],
   "source": [
    "net2.load_state_dict(torch.load('mlp_params'))\n",
    "net2.state_dict()"
   ]
  },
  {
   "cell_type": "code",
   "execution_count": null,
   "id": "64c3d57f-a331-4582-a9ca-562acae36dbb",
   "metadata": {},
   "outputs": [],
   "source": []
  }
 ],
 "metadata": {
  "kernelspec": {
   "display_name": "Python 3 (ipykernel)",
   "language": "python",
   "name": "python3"
  },
  "language_info": {
   "codemirror_mode": {
    "name": "ipython",
    "version": 3
   },
   "file_extension": ".py",
   "mimetype": "text/x-python",
   "name": "python",
   "nbconvert_exporter": "python",
   "pygments_lexer": "ipython3",
   "version": "3.11.13"
  }
 },
 "nbformat": 4,
 "nbformat_minor": 5
}
